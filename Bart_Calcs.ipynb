{
 "cells": [
  {
   "cell_type": "markdown",
   "metadata": {},
   "source": [
    "ABAG Landuse Calculations for VTA and BART Model.\n",
    "\n",
    "This notebook documents the joining data between VTA or CCAG TAZ Zones and MTC's 1454 regions.  VTA and CCAG will be reffered to as Regional Partners. \n",
    "\n",
    "Also there is details on how to convert ABAG numbers to BART numbers.\n",
    "\n",
    "The inputs are the yearly calculations from MTC and VTA and CCAG.  The outputs are a csv, excel, and a shapefile."
   ]
  },
  {
   "cell_type": "code",
   "execution_count": 1,
   "metadata": {},
   "outputs": [
    {
     "name": "stdout",
     "output_type": "stream",
     "text": [
      "PyTables is not installed. No support for HDF output.\n"
     ]
    }
   ],
   "source": [
    "#This uses geopy36\n",
    "import geopandas as gpd\n",
    "import pandas as pd\n",
    "%matplotlib inline  \n",
    "from shapely.geometry import Point\n",
    "\n",
    "from simpledbf import Dbf5\n",
    "#pip install simpledbf\n",
    "#https://pypi.python.org/pypi/simpledbf/0.2.4"
   ]
  },
  {
   "cell_type": "code",
   "execution_count": 2,
   "metadata": {},
   "outputs": [],
   "source": [
    "# RP stands for Regional Partner\n",
    "def prep_data(abag, rp_taz, geom_given = True):\n",
    "    \n",
    "    cols = ['TAZ','TAZ1454','DIST','SDIST','COUNTY','TOTHH','TOTPOP',\n",
    "                                    'HHPOP','EMPRES','HH1','HH2','HH3','HH4','TACRES','RESACRE','CIACRE','TEMP',\n",
    "                                    'RETEMP','SEREMP','OTHEMP','AGEMP','MANEMP','WHOEMP','AGE0004','AGE0519',\n",
    "                                    'AGE2044','AGE4564','AGE65','AGE0513','AGE1417','AGE1824','SFHH','MFHH']\n",
    "    cols_to_retain = ['INC1','INC2','INC3','INC4','MHHINC', 'ESENR', 'HSENR', 'COLLENR', 'COLLENRF', 'COLLENRP']\n",
    "\n",
    "    cols.extend(cols_to_retain)\n",
    "\n",
    "    if geom_given:\n",
    "        cols.append('geometry')\n",
    "    else:\n",
    "        pass\n",
    "    \n",
    "    \n",
    "    rp_taz = rp_taz[cols].rename(columns={\"TOTHH\":\"RP_TOTHH\",\"TOTPOP\":\"RP_TOTPOP\",\n",
    "                                \"HHPOP\":\"RP_HHPOP\",\"EMPRES\":\"RP_EMPRES\",\"RESACRE\":'RP_RESACRE',\"CIACRE\":\"RP_CIACRE\",\"TEMP\":\"RP_TEMP\"})\n",
    "    # rp_taz.rename(columns='RP_{}'.format)\n",
    "\n",
    "    #Join the RP shapefile to the abag 2010 dataset!  Pull this source input data directly from ABAG\n",
    "    rp_calc = pd.merge(abag[['TAZ1454','TOTHH','HHPOP','TOTPOP','EMPRES','RESACRE','CIACRE','TOTEMP','SHPOP62P']].rename(columns={\"SHPOP62P\":\"Z2SHARE\"}),\n",
    "                                rp_taz)\n",
    "\n",
    "    return rp_calc\n",
    "    # vt_calc.groupby(['TAZ1454','TAZ'])['VTA_TOTPOP'].apply(lambda x: x / x.sum())\n",
    "    # vt_calc.groupby(['TAZ1454','TAZ'])['VTA_TOTPOP'].sum()"
   ]
  },
  {
   "cell_type": "code",
   "execution_count": 3,
   "metadata": {},
   "outputs": [],
   "source": [
    "def landuse_calcs(rp_calc):\n",
    "    \"\"\" Takes the input dataframe and does transformations, share calculations, to derive numbers for projections.\n",
    "    \"\"\"\n",
    "    rp_tothh = rp_calc.groupby(['TAZ1454','TAZ'])['RP_TOTHH'].sum().groupby(level = 0).transform(lambda x: x/x.sum()).reset_index()\n",
    "    rp_hhpop = rp_calc.groupby(['TAZ1454','TAZ'])['RP_HHPOP'].sum().groupby(level = 0).transform(lambda x: x/x.sum()).reset_index()\n",
    "    rp_totpop = rp_calc.groupby(['TAZ1454','TAZ'])['RP_TOTPOP'].sum().groupby(level = 0).transform(lambda x: x/x.sum()).reset_index()\n",
    "    rp_empres = rp_calc.groupby(['TAZ1454','TAZ'])['RP_EMPRES'].sum().groupby(level = 0).transform(lambda x: x/x.sum()).reset_index()\n",
    "\n",
    "    rp_resacre = rp_calc.groupby(['TAZ1454','TAZ'])['RP_RESACRE'].sum().groupby(level = 0).transform(lambda x: x/x.sum()).reset_index()\n",
    "    rp_ciacre = rp_calc.groupby(['TAZ1454','TAZ'])['RP_CIACRE'].sum().groupby(level = 0).transform(lambda x: x/x.sum()).reset_index()\n",
    "    rp_temp = rp_calc.groupby(['TAZ1454','TAZ'])['RP_TEMP'].sum().groupby(level = 0).transform(lambda x: x/x.sum()).reset_index()\n",
    "\n",
    "    rp_tothh = rp_tothh.rename(columns={\"RP_TOTHH\":\"RP_TOTHH_share\"})\n",
    "    rp_hhpop = rp_hhpop.rename(columns={\"RP_HHPOP\":\"RP_HHPOP_share\"})\n",
    "    rp_totpop = rp_totpop.rename(columns={\"RP_TOTPOP\":\"RP_TOTPOP_share\"})\n",
    "    rp_empres = rp_empres.rename(columns={\"RP_EMPRES\":\"RP_EMPRES_share\"})\n",
    "\n",
    "    rp_resacre = rp_resacre.rename(columns={\"RP_RESACRE\":\"RP_RESACRE_share\"})\n",
    "    rp_ciacre = rp_ciacre.rename(columns={\"RP_CIACRE\":\"RP_CIACRE_share\"})\n",
    "    rp_temp = rp_temp.rename(columns={\"RP_TEMP\":\"RP_TEMP_share\"})\n",
    "\n",
    "    vta_final= pd.merge(pd.merge(pd.merge(pd.merge(pd.merge(pd.merge(pd.merge(rp_calc,rp_tothh),rp_hhpop),rp_totpop),rp_empres),rp_resacre),rp_ciacre),rp_temp)\n",
    "    vta_final['abag_TOTHH_dist'] = round(vta_final['TOTHH']*vta_final['RP_TOTHH_share'])\n",
    "    vta_final['abag_HHPOP_dist'] = round(vta_final['HHPOP']*vta_final['RP_HHPOP_share'])\n",
    "    vta_final['abag_TOTPOP_dist'] = round(vta_final['TOTPOP']*vta_final['RP_TOTPOP_share'])\n",
    "    vta_final['abag_EMPRES_dist'] = round(vta_final['EMPRES']*vta_final['RP_EMPRES_share'])\n",
    "    \n",
    "    vta_final['abag_RESACRE_dist'] = round(vta_final['RESACRE']*vta_final['RP_RESACRE_share'])\n",
    "    vta_final['abag_CIACRE_dist'] = round(vta_final['CIACRE']*vta_final['RP_CIACRE_share'])\n",
    "    vta_final['abag_TEMP_dist'] = round(vta_final['TOTEMP']*vta_final['RP_TEMP_share'])\n",
    "\n",
    "#     vta_final['abag_HHPOP_dist'] = round(vta_final['RP_HHPOP']/vta_final['RP_TOTHH']*vta_final['abag_TOTHH_dist'])\n",
    "    \n",
    "#     vta_final['abag_TOTPOP_dist'] = round(vta_final['RP_TOTPOP']/vta_final['RP_TOTHH']*vta_final['abag_TOTHH_dist'])\n",
    "\n",
    "#     vta_final['abag_EMPRES_dist'] = round(vta_final['RP_EMPRES']/vta_final['RP_TOTHH']*vta_final['abag_TOTHH_dist'])\n",
    "\n",
    "    vta_final['abag_HH1_dist'] = round(vta_final['HH1']/vta_final['RP_TOTHH']*vta_final['abag_TOTHH_dist'])\n",
    "    vta_final['abag_HH2_dist'] = round(vta_final['HH2']/vta_final['RP_TOTHH']*vta_final['abag_TOTHH_dist'])\n",
    "    vta_final['abag_HH3_dist'] = round(vta_final['HH3']/vta_final['RP_TOTHH']*vta_final['abag_TOTHH_dist'])\n",
    "    vta_final['abag_HH4_dist'] = round(vta_final['HH4']/vta_final['RP_TOTHH']*vta_final['abag_TOTHH_dist'])\n",
    "    #Make HH\n",
    "\n",
    "    vta_final['abag_RETEMP_dist'] = round(vta_final['RETEMP']/vta_final['RP_TEMP']*vta_final['abag_TEMP_dist'])\n",
    "    vta_final['abag_SEREMP_dist'] = round(vta_final['SEREMP']/vta_final['RP_TEMP']*vta_final['abag_TEMP_dist'])\n",
    "    vta_final['abag_OTHEMP_dist'] = round(vta_final['OTHEMP']/vta_final['RP_TEMP']*vta_final['abag_TEMP_dist'])\n",
    "    vta_final['abag_AGEMP_dist'] = round(vta_final['AGEMP']/vta_final['RP_TEMP']*vta_final['abag_TEMP_dist'])\n",
    "    vta_final['abag_MANEMP_dist'] = round(vta_final['MANEMP']/vta_final['RP_TEMP']*vta_final['abag_TEMP_dist'])\n",
    "    vta_final['abag_WHOEMP_dist'] = round(vta_final['WHOEMP']/vta_final['RP_TEMP']*vta_final['abag_TEMP_dist'])\n",
    "\n",
    "    vta_final['abag_AGE0004_dist'] = round(vta_final['AGE0004']/vta_final['RP_HHPOP']*vta_final['abag_HHPOP_dist'])\n",
    "    vta_final['abag_AGE0519_dist'] = round(vta_final['AGE0519']/vta_final['RP_HHPOP']*vta_final['abag_HHPOP_dist'])\n",
    "    vta_final['abag_AGE2044_dist'] = round(vta_final['AGE2044']/vta_final['RP_HHPOP']*vta_final['abag_HHPOP_dist'])\n",
    "    vta_final['abag_AGE4564_dist'] = round(vta_final['AGE4564']/vta_final['RP_HHPOP']*vta_final['abag_HHPOP_dist'])\n",
    "    vta_final['abag_AGE65_dist'] = round(vta_final['AGE65']/vta_final['RP_HHPOP']*vta_final['abag_HHPOP_dist'])\n",
    "\n",
    "    vta_final['abag_AGE0513_dist'] = round(vta_final['AGE0513']/vta_final['RP_TOTPOP']*vta_final['abag_TOTPOP_dist'])\n",
    "    vta_final['abag_AGE1417_dist'] = round(vta_final['AGE1417']/vta_final['RP_TOTPOP']*vta_final['abag_TOTPOP_dist'])\n",
    "    vta_final['abag_AGE1824_dist'] = round(vta_final['AGE1824']/vta_final['RP_TOTPOP']*vta_final['abag_TOTPOP_dist'])\n",
    "    \n",
    "    vta_final['abag_SFHH_dist'] = round(vta_final['SFHH']/vta_final['RP_TOTHH']*vta_final['abag_TOTHH_dist'])\n",
    "    vta_final['abag_MFHH_dist'] = round(vta_final['MFHH']/vta_final['RP_TOTHH']*vta_final['abag_TOTHH_dist'])\n",
    "    \n",
    "    return vta_final"
   ]
  },
  {
   "cell_type": "code",
   "execution_count": null,
   "metadata": {
    "scrolled": false
   },
   "outputs": [],
   "source": [
    "# Prepping the MTC data\n",
    "mtc_taz = gpd.read_file('MTC/')\n",
    "abag = pd.read_csv('ABAG_03202018/run7224c_taz_summaries_2015.csv')\n",
    "abag = abag.rename(columns={'ZONE':'TAZ1454'})\n",
    "mtc_taz = pd.merge(mtc_taz,abag)\n",
    "\n",
    "mtc_taz.head()"
   ]
  },
  {
   "cell_type": "code",
   "execution_count": null,
   "metadata": {},
   "outputs": [],
   "source": [
    "#HHINCQ1 - number of houses in the 1st quartile.\n",
    "mtc_taz.columns"
   ]
  },
  {
   "cell_type": "code",
   "execution_count": null,
   "metadata": {},
   "outputs": [],
   "source": [
    "mtc_taz.columns"
   ]
  },
  {
   "cell_type": "code",
   "execution_count": null,
   "metadata": {},
   "outputs": [],
   "source": [
    "# Prep the VTA data\n",
    "\n",
    "vta_taz = gpd.read_file('VTA_TAZ/')\n",
    "# vta_taz = vta_taz.rename(columns={'TAZ':'VTA_TAZ'})\n",
    "\n",
    "dbf = Dbf5('2017ABAGLanduseAllocation/VTA/zmast13.dbf')\n",
    "vta_dbf = dbf.to_dataframe()\n",
    "vta_dbf = vta_dbf.rename(columns={'ZONE':'TAZ'})\n",
    "vta_taz = pd.merge(vta_taz,vta_dbf)\n",
    "\n",
    "\n",
    "# mtc_taz = gpd.read_file('/Users/vivek/Github/VTA/Landuse/MTC/MTCTAZ1454.dbf')\n",
    "\n",
    "\n",
    "#http://analytics.mtc.ca.gov/foswiki/UrbanSimTwo/OutputToTravelModel\n",
    "\n",
    "# vta_taz['centroid'] = vta_taz.centroid\n",
    "# vta_taz = vta_taz.set_geometry('centroid')\n",
    "# vta_taz['old_geometry'] = vta_taz['geometry']\n",
    "# vta_taz['geometry'] = vta_taz['centroid']\n",
    "\n",
    "# centroid = gpd.sjoin(mtc_taz[['TAZ1454','geometry']], vta_taz, how = \"right\", op='contains')\n",
    "# centroid['TAZ1454'].nunique()\n",
    "# centroid[['TAZ1454','TAZ']].to_csv(\"rel.csv\")\n",
    "# rel = centroid[['TAZ1454','TAZ']]\n",
    "# missing_zones = pd.DataFrame([{'TAZ1454' : 1454, 'TAZ' : 2786},{'TAZ1454':404,'TAZ':980},{'TAZ1454' : 190, 'TAZ' : 1890}])\n",
    "# rel = pd.concat([rel,missing_zones])\n",
    "# rel.to_csv('rel_vta_mtc.csv',index=False)\n",
    "\n",
    "rel = pd.read_csv('rel_vta_mtc.csv')\n",
    "rel = rel.loc[~rel['TAZ1454'].isnull(),]\n",
    "\n",
    "vta_taz = pd.merge(vta_taz[['TAZ','DIST','SDIST','COUNTY','geometry','TOTHH','TOTPOP',\n",
    "                            'HHPOP','EMPRES','HH1','HH2','HH3','HH4','TACRES','RESACRE','CIACRE','TEMP',\n",
    "                            'RETEMP','SEREMP','OTHEMP','AGEMP','MANEMP','WHOEMP','AGE0004','AGE0519',\n",
    "                            'AGE2044','AGE4564','AGE65','SFHH','MFHH']],rel)"
   ]
  },
  {
   "cell_type": "code",
   "execution_count": null,
   "metadata": {},
   "outputs": [],
   "source": [
    "# Prep Data for CCAG\n",
    "\n",
    "CCAG_taz = gpd.read_file('CCAGTAZ/')\n",
    "\n",
    "# Not sure what the data in the TAZ shapefile relates to, will delete.\n",
    "del CCAG_taz['ESENR']\n",
    "del CCAG_taz['HSENR']\n",
    "# CCAG_taz.rename(columns={'CITY':'CITY_NAME'}, inplace=True)\n",
    "\n",
    "\n",
    "dbf = Dbf5('2017ABAGLanduseAllocation/CCAGP2013/zmast13.dbf')\n",
    "CCAG_dbf = dbf.to_dataframe()\n",
    "# vta_dbf = vta_dbf.rename(columns={'ZONE':'VTA_TAZ'})\n",
    "\n",
    "\n",
    "ccag_merged = pd.merge(CCAG_taz, CCAG_dbf, left_on = ['TAZ','DIST','COUNTY','SDIST'], right_on=['ZONE','DIST','COUNTY','SDIST'])\n",
    "del ccag_merged['ZONE']"
   ]
  },
  {
   "cell_type": "code",
   "execution_count": 6,
   "metadata": {
    "scrolled": false
   },
   "outputs": [],
   "source": [
    "#Prep ABAG data\n",
    "#BART: Update abag projection to new file.\n",
    "\n",
    "# mtc_taz = gpd.read_file('MTC/')\n",
    "# mtc_taz = mtc_taz.rename(columns={'TAZ1454':'ZONE'})\n",
    "years = ['2015','2020','2025','2030','2035','2040']\n",
    "\n",
    "\n",
    "#Prep BART data\n",
    "\n",
    "# bart_dbf = pd.read_excel('bart_calcs_clean2015_AvdH_corrected.xlsx', sheet_name='Corrected')\n",
    "bart_dbf = pd.read_csv('bart_calcs_clean2015_AvdH_input.csv')\n",
    "bart_dbf['EMPRES'] = bart_dbf['EMPRES'].replace(to_replace={'#REF!':'1'}).astype(int)\n",
    "\n",
    "bart_dbf = bart_dbf.rename(columns={'ZONE':'TAZ'})\n",
    "# year = '2015'\n",
    "\n",
    "# This might be inefficient since the relationship seems to be inside the bart_TAZ shapefile.\n",
    "# bart_taz = gpd.read_file('BART-TAZ/TAZ/')\n",
    "# bart_crs = bart_taz.crs\n",
    "# bart_taz = pd.merge(bart_taz[['TAZ','KEY','AREA', 'geometry']],bart_dbf)\n",
    "\n",
    "for year in years:\n",
    "\n",
    "# # pd.read_excel?\n",
    "# bart_rel = pd.read_excel('BART_zmast15_EIR.xlsx', sheet_name='Zone Corresp')\n",
    "# bart_rel = bart_rel.rename(columns={'BARTZONE':'TAZ', 'MTCTAZ':'TAZ1454'})\n",
    "\n",
    "# bart_dbf = pd.merge(bart_dbf, bart_rel)\n",
    "\n",
    "\n",
    "    abag = pd.read_csv('ABAG_03202018/run7224c_taz_summaries_' + year + '.csv')\n",
    "    abag = abag.rename(columns={'ZONE':'TAZ1454'})\n",
    "    #     mtc_taz = pd.merge(mtc_taz,abag)\n",
    "\n",
    "    rp_calc = prep_data(abag, bart_dbf, geom_given = False)\n",
    "    bart_calcs = landuse_calcs(rp_calc)\n",
    "    # del bart_calcs['geometry']\n",
    "    bart_calcs.to_csv('output/bart_proj_abag_calcs_' + year + '.csv',index=False)\n",
    "#     bart_calcs.to_excel('output/bart_proj_abag_calcs_'  + year + '.xlsx' ,index=False)\n",
    "\n",
    "    bart_calcs_final = bart_calcs[['TAZ', 'DIST', 'SDIST', 'COUNTY', 'abag_TOTHH_dist', 'abag_HHPOP_dist',\n",
    "           'abag_TOTPOP_dist', 'abag_EMPRES_dist', 'abag_SFHH_dist', 'abag_MFHH_dist', 'abag_HH1_dist', 'abag_HH2_dist', 'abag_HH3_dist', 'abag_HH4_dist',\n",
    "           'INC1', 'INC2', 'INC3', 'INC4', 'MHHINC', 'TACRES', 'abag_RESACRE_dist',\n",
    "           'abag_CIACRE_dist', 'Z2SHARE', 'abag_TEMP_dist', 'abag_RETEMP_dist', 'abag_SEREMP_dist', 'abag_OTHEMP_dist', 'abag_AGEMP_dist',\n",
    "           'abag_MANEMP_dist', 'abag_WHOEMP_dist', 'abag_AGE0004_dist', 'abag_AGE0519_dist', 'abag_AGE2044_dist', 'abag_AGE4564_dist',\n",
    "           'abag_AGE65_dist', 'abag_AGE0513_dist', 'abag_AGE1417_dist', 'abag_AGE1824_dist', 'ESENR', 'HSENR',\n",
    "           'COLLENR', 'COLLENRF', 'COLLENRP','TAZ1454']].rename(columns={'TAZ':'ZONE'})\n",
    "\n",
    "    # df.rename(columns=lambda x: x + 1)\n",
    "    # https://www.dataquest.io/blog/pandas-cheat-sheet/\n",
    "    bart_calcs_final.rename(columns=lambda x: x.replace('abag_','').replace('_dist',''),inplace=True)\n",
    "\n",
    "    #     crs = mtc_taz.crs\n",
    "    # geo_df = gpd.GeoDataFrame(bart_final, crs=bart_crs, geometry=bart_final['geometry'])\n",
    "\n",
    "    # geo_df.head()\n",
    "    # geo_df.to_file('output/bart_proj_abag_' + year)\n",
    "\n",
    "    # del bart_calcs_final['geometry']\n",
    "\n",
    "\n",
    "    bart_calcs_final.to_csv('output/bart_calcs_clean' + year + '.csv',index=False)\n",
    "#     bart_calcs_final.to_excel('output/bart_calcs_clean'  + year + '.xlsx' ,index=False)"
   ]
  },
  {
   "cell_type": "code",
   "execution_count": null,
   "metadata": {},
   "outputs": [],
   "source": [
    "# Generate CCAG Calculations\n",
    "\n",
    "rp_calc = prep_data(abag, ccag_merged, rel)\n",
    "vta_final = landuse_calcs(rp_calc)\n",
    "\n",
    "geometry = vta_final['geometry']\n",
    "crs = mtc_taz.crs\n",
    "geo_df = gpd.GeoDataFrame(vta_final, crs=crs, geometry=geometry)\n",
    "\n",
    "geo_df.head()\n",
    "geo_df.to_file('abag_2010_ccag_dist')\n",
    "\n",
    "del vta_final['geometry']\n",
    "vta_final.to_csv('ccag_final_abag_2010.csv',index=False)\n",
    "vta_final.to_excel('ccag_final_abag_2010.xlsx',index=False)"
   ]
  },
  {
   "cell_type": "code",
   "execution_count": null,
   "metadata": {},
   "outputs": [],
   "source": [
    "# Generate VTA Calculations\n",
    "\n",
    "rp_calc = prep_data(abag, vta_taz)\n",
    "vta_final = landuse_calcs(rp_calc)\n",
    "\n",
    "geometry = vta_final['geometry']\n",
    "crs = mtc_taz.crs\n",
    "geo_df = gpd.GeoDataFrame(vta_final, crs=crs, geometry=geometry)\n",
    "\n",
    "\n",
    "geo_df.head()\n",
    "geo_df.to_file('abag_2010_vta_dist')\n",
    "\n",
    "del vta_final['geometry']\n",
    "vta_final.to_csv('vta_final_abag_2010.csv',index=False)\n",
    "vta_final.to_excel('vta_final_abag_2010.xlsx',index=False)"
   ]
  },
  {
   "cell_type": "code",
   "execution_count": null,
   "metadata": {},
   "outputs": [],
   "source": [
    "# # Generate BART Calculations\n",
    "\n",
    "# rp_calc = prep_data(abag, vta_taz)\n",
    "# vta_final = landuse_calcs(rp_calc)\n",
    "\n",
    "# geometry = vta_final['geometry']\n",
    "# crs = mtc_taz.crs\n",
    "# geo_df = gpd.GeoDataFrame(vta_final, crs=crs, geometry=geometry)\n",
    "\n",
    "\n",
    "# geo_df.head()\n",
    "# geo_df.to_file('abag_2010_vta_dist')\n",
    "\n",
    "# del vta_final['geometry']\n",
    "# vta_final.to_csv('vta_final_abag_2010.csv',index=False)\n",
    "# vta_final.to_excel('vta_final_abag_2010.xlsx',index=False)"
   ]
  },
  {
   "cell_type": "code",
   "execution_count": null,
   "metadata": {},
   "outputs": [],
   "source": [
    "# vta_final.head()"
   ]
  },
  {
   "cell_type": "code",
   "execution_count": null,
   "metadata": {},
   "outputs": [],
   "source": [
    "# vt = vta_taz.columns.values\n",
    "# ab = abag_2010.columns.values \n",
    "# set(ab) - set(tz)\n",
    "# # set(ab) - set(tz)\n",
    "# # set(ab).difference(set(tz))\n",
    "# set(vt).intersection(set(ab))\n",
    "# set(ab) - set(vt)"
   ]
  },
  {
   "cell_type": "code",
   "execution_count": null,
   "metadata": {},
   "outputs": [],
   "source": [
    "bart_dbf = pd.read_excel('bart_calcs_clean2015_AvdH_corrected.xlsx', sheet_name='Corrected')\n",
    "bart_dbf = bart_dbf.rename(columns={'ZONE':'TAZ'})"
   ]
  },
  {
   "cell_type": "code",
   "execution_count": null,
   "metadata": {},
   "outputs": [],
   "source": [
    "year"
   ]
  },
  {
   "cell_type": "code",
   "execution_count": null,
   "metadata": {},
   "outputs": [],
   "source": [
    "year = '2015'\n",
    "abag = pd.read_csv('ABAG_03202018/run7224c_taz_summaries_' + year + '.csv')\n",
    "abag = abag.rename(columns={'ZONE':'TAZ1454'})\n",
    "mtc_taz = pd.merge(mtc_taz,abag)\n",
    "\n",
    "rp_calc = prep_data(abag, bart_dbf, geom_given = False)"
   ]
  },
  {
   "cell_type": "code",
   "execution_count": null,
   "metadata": {},
   "outputs": [],
   "source": [
    "rp_calc.columns"
   ]
  },
  {
   "cell_type": "code",
   "execution_count": null,
   "metadata": {},
   "outputs": [],
   "source": []
  }
 ],
 "metadata": {
  "kernelspec": {
   "display_name": "Python 3",
   "language": "python",
   "name": "python3"
  },
  "language_info": {
   "codemirror_mode": {
    "name": "ipython",
    "version": 3
   },
   "file_extension": ".py",
   "mimetype": "text/x-python",
   "name": "python",
   "nbconvert_exporter": "python",
   "pygments_lexer": "ipython3",
   "version": "3.6.4"
  }
 },
 "nbformat": 4,
 "nbformat_minor": 2
}
