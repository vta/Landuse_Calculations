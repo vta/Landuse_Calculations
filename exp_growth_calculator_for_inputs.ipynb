{
 "cells": [
  {
   "cell_type": "markdown",
   "metadata": {},
   "source": [
    "Generate year 2026 and year 2038 numbers from the previous calculations"
   ]
  },
  {
   "cell_type": "code",
   "execution_count": null,
   "metadata": {},
   "outputs": [],
   "source": [
    "import pandas as pd\n",
    "import numpy as np"
   ]
  },
  {
   "cell_type": "code",
   "execution_count": null,
   "metadata": {},
   "outputs": [],
   "source": [
    "# Test Calc\n",
    "# 147*np.exp(r*2)"
   ]
  },
  {
   "cell_type": "code",
   "execution_count": null,
   "metadata": {},
   "outputs": [],
   "source": [
    "def exp_growth_calc(zero_pop, final_pop, final_pop_years, calc_years, fields):\n",
    "    # http://www.coolmath.com/algebra/17-exponentials-logarithms/06-population-exponential-growth-01\n",
    "    # r = np.log(244/147)/10\n",
    "    # r = np.log(P/P0)/time\n",
    "    return zero_pop[fields]*np.exp(np.log(final_pop[fields]/zero_pop[fields])/final_pop_years*calc_years)"
   ]
  },
  {
   "cell_type": "code",
   "execution_count": null,
   "metadata": {},
   "outputs": [],
   "source": [
    "years_tuples = [(2025, 2030, 2026),(2035, 2040, 2038),(2015,2020,2018),(2015,2020,2017),(2020,2025,2023),(2035,2040,2043)]\n",
    "\n",
    "fields = ['AGREMPN', 'FPSEMPN', 'HEREMPN',\n",
    "       'RETEMPN', 'TOTEMP', 'MWTEMPN', 'OTHEMPN', 'HHINCQ1', 'HHINCQ2',\n",
    "       'HHINCQ3', 'HHINCQ4', 'SHPOP62P', 'TOTHH', 'GQPOP', 'MFDU', 'SFDU',\n",
    "       'CIACRE_UNWEIGHTED', 'RESACRE_UNWEIGHTED', 'CIACRE', 'RESACRE',\n",
    "       'TOTACRE', 'HHPOP', 'TOTPOP', 'EMPRES', 'AGE0004', 'AGE0519', 'AGE2044',\n",
    "       'AGE4564', 'AGE65P', 'total_job_spaces', 'total_residential_units']\n",
    "\n",
    "for year_tuple in years_tuples:\n",
    "\n",
    "    lower_df = pd.read_csv('ABAG_03202018/run7224c_taz_summaries_' + str(year_tuple[0]) + '.csv')\n",
    "    upper_df = pd.read_csv('ABAG_03202018/run7224c_taz_summaries_' + str(year_tuple[1]) + '.csv')\n",
    "    target_df = lower_df.copy()\n",
    "    target_df[fields] = exp_growth_calc(lower_df, upper_df, year_tuple[1]-year_tuple[0], year_tuple[2] - year_tuple[0], fields)\n",
    "\n",
    "    target_df[target_df.columns.difference(['SHPOP62P'])] = target_df[target_df.columns.difference(['SHPOP62P'])].round(0).fillna(0.0).astype(int)\n",
    "    target_df.to_csv('ABAG_03202018/run7224c_taz_summaries_' + str(year_tuple[2]) + '.csv', na_rep=0, index=False)\n",
    "    print(year_tuple)\n",
    "# target_df[target_df.columns.difference(['Z2SHARE'])] = df_26[df_26.columns.difference(['Z2SHARE'])].round(0).fillna(0.0).astype(int)\n"
   ]
  }
 ],
 "metadata": {
  "kernelspec": {
   "display_name": "Python 3",
   "language": "python",
   "name": "python3"
  },
  "language_info": {
   "codemirror_mode": {
    "name": "ipython",
    "version": 3
   },
   "file_extension": ".py",
   "mimetype": "text/x-python",
   "name": "python",
   "nbconvert_exporter": "python",
   "pygments_lexer": "ipython3",
   "version": "3.6.4"
  }
 },
 "nbformat": 4,
 "nbformat_minor": 2
}
