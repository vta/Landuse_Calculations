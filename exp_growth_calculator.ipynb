{
 "cells": [
  {
   "cell_type": "markdown",
   "metadata": {},
   "source": [
    "Generate year 2026 and year 2038 numbers from the previous calculations"
   ]
  },
  {
   "cell_type": "code",
   "execution_count": 40,
   "metadata": {},
   "outputs": [],
   "source": [
    "import pandas as pd\n",
    "import numpy as np"
   ]
  },
  {
   "cell_type": "code",
   "execution_count": null,
   "metadata": {},
   "outputs": [],
   "source": [
    "# Test Calc\n",
    "# 147*np.exp(r*2)"
   ]
  },
  {
   "cell_type": "code",
   "execution_count": 41,
   "metadata": {},
   "outputs": [],
   "source": [
    "def exp_growth_calc(zero_pop, final_pop, final_pop_years, calc_years, fields):\n",
    "    # http://www.coolmath.com/algebra/17-exponentials-logarithms/06-population-exponential-growth-01\n",
    "    # r = np.log(244/147)/10\n",
    "    # r = np.log(P/P0)/time\n",
    "    return zero_pop[fields]*np.exp(np.log(final_pop[fields]/zero_pop[fields])/final_pop_years*calc_years)"
   ]
  },
  {
   "cell_type": "code",
   "execution_count": 42,
   "metadata": {},
   "outputs": [],
   "source": [
    "fields = ['TOTHH', 'HHPOP', 'TOTPOP', 'EMPRES',\n",
    "       'SFHH', 'MFHH', 'HH1', 'HH2', 'HH3', 'HH4', 'INC1', 'INC2', 'INC3',\n",
    "       'INC4', 'MHHINC', 'TACRES', 'RESACRE', 'CIACRE', 'Z2SHARE',\n",
    "       'TEMP', 'RETEMP', 'SEREMP', 'OTHEMP', 'AGEMP', 'MANEMP', 'WHOEMP',\n",
    "       'AGE0004', 'AGE0519', 'AGE2044', 'AGE4564', 'AGE65', 'AGE0513',\n",
    "       'AGE1417', 'AGE1824', 'ESENR', 'HSENR', 'COLLENR', 'COLLENRF',\n",
    "       'COLLENRP']\n",
    "# df_25[fields].head()"
   ]
  },
  {
   "cell_type": "code",
   "execution_count": null,
   "metadata": {},
   "outputs": [],
   "source": [
    "# df_25 = pd.read_csv('output/bart_calcs_clean2025.csv')\n",
    "# df_35 = pd.read_csv('output/bart_calcs_clean2035.csv')\n",
    "\n",
    "# df_26 = df_25.copy()\n",
    "# df_26[fields] = exp_growth_calc(df_25, df_35, 10, 1, fields)\n",
    "\n",
    "# #Round all columns except Z2SHARE\n",
    "# df_26[df_26.columns.difference(['Z2SHARE'])] = df_26[df_26.columns.difference(['Z2SHARE'])].round(0).fillna(0.0).astype(int)\n",
    "# df_26.to_csv('output/bart_calcs_clean2026.csv', index=False)"
   ]
  },
  {
   "cell_type": "code",
   "execution_count": 43,
   "metadata": {},
   "outputs": [
    {
     "name": "stderr",
     "output_type": "stream",
     "text": [
      "/Users/vivek/anaconda3/envs/GIS/lib/python3.6/site-packages/ipykernel_launcher.py:5: RuntimeWarning: divide by zero encountered in log\n",
      "  \"\"\"\n"
     ]
    }
   ],
   "source": [
    "df_25 = pd.read_csv('output/bart_calcs_clean2025.csv')\n",
    "df_30 = pd.read_csv('output/bart_calcs_clean2030.csv')\n",
    "\n",
    "df_26 = df_25.copy()\n",
    "df_26[fields] = exp_growth_calc(df_25, df_30, 5, 1, fields)\n",
    "\n",
    "#Round all columns except Z2SHARE\n",
    "df_26[df_26.columns.difference(['Z2SHARE'])] = df_26[df_26.columns.difference(['Z2SHARE'])].round(0).fillna(0.0).astype(int)\n",
    "df_26.to_csv('output/bart_calcs_clean2026.csv', na_rep=0, index=False)"
   ]
  },
  {
   "cell_type": "code",
   "execution_count": 44,
   "metadata": {},
   "outputs": [
    {
     "name": "stderr",
     "output_type": "stream",
     "text": [
      "/Users/vivek/anaconda3/envs/GIS/lib/python3.6/site-packages/ipykernel_launcher.py:5: RuntimeWarning: divide by zero encountered in log\n",
      "  \"\"\"\n"
     ]
    }
   ],
   "source": [
    "df_35 = pd.read_csv('output/bart_calcs_clean2035.csv')\n",
    "df_40 = pd.read_csv('output/bart_calcs_clean2040.csv')\n",
    "\n",
    "df_38 = df_35.copy()\n",
    "df_38[fields] = exp_growth_calc(df_35, df_40, 5, 3, fields)\n",
    "df_38[df_38.columns.difference(['Z2SHARE'])] = df_38[df_38.columns.difference(['Z2SHARE'])].round(0).fillna(0.0).astype(int)\n",
    "df_38.to_csv('output/bart_calcs_clean2038.csv', na_rep=0, index=False)"
   ]
  },
  {
   "cell_type": "code",
   "execution_count": 45,
   "metadata": {},
   "outputs": [
    {
     "name": "stderr",
     "output_type": "stream",
     "text": [
      "/Users/vivek/anaconda3/envs/GIS/lib/python3.6/site-packages/ipykernel_launcher.py:5: RuntimeWarning: divide by zero encountered in log\n",
      "  \"\"\"\n"
     ]
    }
   ],
   "source": [
    "df_15 = pd.read_csv('output/bart_calcs_clean2015.csv')\n",
    "df_20 = pd.read_csv('output/bart_calcs_clean2020.csv')\n",
    "\n",
    "df_18 = df_15.copy()\n",
    "df_18[fields] = exp_growth_calc(df_15, df_20, 5, 3, fields)\n",
    "df_18[df_18.columns.difference(['Z2SHARE'])] = df_18[df_18.columns.difference(['Z2SHARE'])].round(0).fillna(0.0).astype(int)\n",
    "df_18.to_csv('output/bart_calcs_clean2018.csv', na_rep=0, index=False)"
   ]
  },
  {
   "cell_type": "code",
   "execution_count": 46,
   "metadata": {},
   "outputs": [
    {
     "name": "stderr",
     "output_type": "stream",
     "text": [
      "/Users/vivek/anaconda3/envs/GIS/lib/python3.6/site-packages/ipykernel_launcher.py:5: RuntimeWarning: divide by zero encountered in log\n",
      "  \"\"\"\n"
     ]
    }
   ],
   "source": [
    "df_15 = pd.read_csv('output/ccag_calcs_clean2015.csv')\n",
    "df_20 = pd.read_csv('output/ccag_calcs_clean2020.csv')\n",
    "\n",
    "df_17 = df_15.copy()\n",
    "df_17[fields] = exp_growth_calc(df_15, df_20, 5, 2, fields)\n",
    "df_17[df_17.columns.difference(['Z2SHARE'])] = df_17[df_17.columns.difference(['Z2SHARE'])].round(0).fillna(0.0).astype(int)\n",
    "df_17.to_csv('output/ccag_calcs_clean2017.csv', na_rep=0, index=False)"
   ]
  },
  {
   "cell_type": "code",
   "execution_count": 47,
   "metadata": {},
   "outputs": [
    {
     "name": "stderr",
     "output_type": "stream",
     "text": [
      "/Users/vivek/anaconda3/envs/GIS/lib/python3.6/site-packages/ipykernel_launcher.py:5: RuntimeWarning: divide by zero encountered in log\n",
      "  \"\"\"\n"
     ]
    }
   ],
   "source": [
    "df_20 = pd.read_csv('output/ccag_calcs_clean2020.csv')\n",
    "df_25 = pd.read_csv('output/ccag_calcs_clean2025.csv')\n",
    "\n",
    "df_23 = df_20.copy()\n",
    "df_23[fields] = exp_growth_calc(df_20, df_25, 5, 3, fields)\n",
    "df_23[df_23.columns.difference(['Z2SHARE'])] = df_23[df_23.columns.difference(['Z2SHARE'])].round(0).fillna(0.0).astype(int)\n",
    "df_23.to_csv('output/ccag_calcs_clean2023.csv', na_rep=0, index=False)"
   ]
  },
  {
   "cell_type": "code",
   "execution_count": 48,
   "metadata": {},
   "outputs": [
    {
     "name": "stderr",
     "output_type": "stream",
     "text": [
      "/Users/vivek/anaconda3/envs/GIS/lib/python3.6/site-packages/ipykernel_launcher.py:5: RuntimeWarning: divide by zero encountered in log\n",
      "  \"\"\"\n"
     ]
    }
   ],
   "source": [
    "df_35 = pd.read_csv('output/ccag_calcs_clean2035.csv')\n",
    "df_40 = pd.read_csv('output/ccag_calcs_clean2040.csv')\n",
    "\n",
    "df_43 = df_40.copy()\n",
    "df_43[fields] = exp_growth_calc(df_35, df_40, 5, 8, fields)\n",
    "df_43[df_43.columns.difference(['Z2SHARE'])] = df_43[df_43.columns.difference(['Z2SHARE'])].round(0).fillna(0.0).astype(int)\n",
    "df_43.to_csv('output/ccag_calcs_clean2043.csv', na_rep=0, index=False)"
   ]
  },
  {
   "cell_type": "code",
   "execution_count": 15,
   "metadata": {},
   "outputs": [
    {
     "data": {
      "text/html": [
       "<div>\n",
       "<style scoped>\n",
       "    .dataframe tbody tr th:only-of-type {\n",
       "        vertical-align: middle;\n",
       "    }\n",
       "\n",
       "    .dataframe tbody tr th {\n",
       "        vertical-align: top;\n",
       "    }\n",
       "\n",
       "    .dataframe thead th {\n",
       "        text-align: right;\n",
       "    }\n",
       "</style>\n",
       "<table border=\"1\" class=\"dataframe\">\n",
       "  <thead>\n",
       "    <tr style=\"text-align: right;\">\n",
       "      <th></th>\n",
       "      <th>ZONE</th>\n",
       "      <th>DIST</th>\n",
       "      <th>SDIST</th>\n",
       "      <th>COUNTY</th>\n",
       "      <th>TOTHH</th>\n",
       "      <th>HHPOP</th>\n",
       "      <th>TOTPOP</th>\n",
       "      <th>EMPRES</th>\n",
       "      <th>SFHH</th>\n",
       "      <th>MFHH</th>\n",
       "      <th>...</th>\n",
       "      <th>AGE4564</th>\n",
       "      <th>AGE65</th>\n",
       "      <th>AGE0513</th>\n",
       "      <th>AGE1417</th>\n",
       "      <th>AGE1824</th>\n",
       "      <th>ESENR</th>\n",
       "      <th>HSENR</th>\n",
       "      <th>COLLENR</th>\n",
       "      <th>COLLENRF</th>\n",
       "      <th>COLLENRP</th>\n",
       "    </tr>\n",
       "  </thead>\n",
       "  <tbody>\n",
       "    <tr>\n",
       "      <th>0</th>\n",
       "      <td>1</td>\n",
       "      <td>10</td>\n",
       "      <td>10</td>\n",
       "      <td>3</td>\n",
       "      <td>590</td>\n",
       "      <td>1649</td>\n",
       "      <td>1651</td>\n",
       "      <td>870</td>\n",
       "      <td>394</td>\n",
       "      <td>195</td>\n",
       "      <td>...</td>\n",
       "      <td>413</td>\n",
       "      <td>277</td>\n",
       "      <td>155</td>\n",
       "      <td>68</td>\n",
       "      <td>93</td>\n",
       "      <td>0</td>\n",
       "      <td>0</td>\n",
       "      <td>0</td>\n",
       "      <td>0</td>\n",
       "      <td>0</td>\n",
       "    </tr>\n",
       "    <tr>\n",
       "      <th>1</th>\n",
       "      <td>2</td>\n",
       "      <td>10</td>\n",
       "      <td>10</td>\n",
       "      <td>3</td>\n",
       "      <td>165</td>\n",
       "      <td>348</td>\n",
       "      <td>348</td>\n",
       "      <td>194</td>\n",
       "      <td>67</td>\n",
       "      <td>98</td>\n",
       "      <td>...</td>\n",
       "      <td>95</td>\n",
       "      <td>68</td>\n",
       "      <td>24</td>\n",
       "      <td>8</td>\n",
       "      <td>28</td>\n",
       "      <td>0</td>\n",
       "      <td>0</td>\n",
       "      <td>0</td>\n",
       "      <td>0</td>\n",
       "      <td>0</td>\n",
       "    </tr>\n",
       "    <tr>\n",
       "      <th>2</th>\n",
       "      <td>3</td>\n",
       "      <td>10</td>\n",
       "      <td>10</td>\n",
       "      <td>3</td>\n",
       "      <td>825</td>\n",
       "      <td>1976</td>\n",
       "      <td>1979</td>\n",
       "      <td>876</td>\n",
       "      <td>270</td>\n",
       "      <td>555</td>\n",
       "      <td>...</td>\n",
       "      <td>403</td>\n",
       "      <td>588</td>\n",
       "      <td>202</td>\n",
       "      <td>89</td>\n",
       "      <td>136</td>\n",
       "      <td>13</td>\n",
       "      <td>13</td>\n",
       "      <td>0</td>\n",
       "      <td>0</td>\n",
       "      <td>0</td>\n",
       "    </tr>\n",
       "    <tr>\n",
       "      <th>3</th>\n",
       "      <td>4</td>\n",
       "      <td>10</td>\n",
       "      <td>10</td>\n",
       "      <td>3</td>\n",
       "      <td>284</td>\n",
       "      <td>602</td>\n",
       "      <td>602</td>\n",
       "      <td>335</td>\n",
       "      <td>109</td>\n",
       "      <td>175</td>\n",
       "      <td>...</td>\n",
       "      <td>165</td>\n",
       "      <td>120</td>\n",
       "      <td>49</td>\n",
       "      <td>17</td>\n",
       "      <td>47</td>\n",
       "      <td>322</td>\n",
       "      <td>0</td>\n",
       "      <td>0</td>\n",
       "      <td>0</td>\n",
       "      <td>0</td>\n",
       "    </tr>\n",
       "    <tr>\n",
       "      <th>4</th>\n",
       "      <td>5</td>\n",
       "      <td>10</td>\n",
       "      <td>10</td>\n",
       "      <td>3</td>\n",
       "      <td>1667</td>\n",
       "      <td>4712</td>\n",
       "      <td>4725</td>\n",
       "      <td>2158</td>\n",
       "      <td>904</td>\n",
       "      <td>764</td>\n",
       "      <td>...</td>\n",
       "      <td>1150</td>\n",
       "      <td>1211</td>\n",
       "      <td>532</td>\n",
       "      <td>208</td>\n",
       "      <td>344</td>\n",
       "      <td>206</td>\n",
       "      <td>0</td>\n",
       "      <td>0</td>\n",
       "      <td>0</td>\n",
       "      <td>0</td>\n",
       "    </tr>\n",
       "  </tbody>\n",
       "</table>\n",
       "<p>5 rows × 43 columns</p>\n",
       "</div>"
      ],
      "text/plain": [
       "   ZONE  DIST  SDIST  COUNTY  TOTHH  HHPOP  TOTPOP  EMPRES  SFHH  MFHH  \\\n",
       "0     1    10     10       3    590   1649    1651     870   394   195   \n",
       "1     2    10     10       3    165    348     348     194    67    98   \n",
       "2     3    10     10       3    825   1976    1979     876   270   555   \n",
       "3     4    10     10       3    284    602     602     335   109   175   \n",
       "4     5    10     10       3   1667   4712    4725    2158   904   764   \n",
       "\n",
       "     ...     AGE4564  AGE65  AGE0513  AGE1417  AGE1824  ESENR  HSENR  COLLENR  \\\n",
       "0    ...         413    277      155       68       93      0      0        0   \n",
       "1    ...          95     68       24        8       28      0      0        0   \n",
       "2    ...         403    588      202       89      136     13     13        0   \n",
       "3    ...         165    120       49       17       47    322      0        0   \n",
       "4    ...        1150   1211      532      208      344    206      0        0   \n",
       "\n",
       "   COLLENRF  COLLENRP  \n",
       "0         0         0  \n",
       "1         0         0  \n",
       "2         0         0  \n",
       "3         0         0  \n",
       "4         0         0  \n",
       "\n",
       "[5 rows x 43 columns]"
      ]
     },
     "execution_count": 15,
     "metadata": {},
     "output_type": "execute_result"
    }
   ],
   "source": [
    "df_43.head()"
   ]
  },
  {
   "cell_type": "code",
   "execution_count": 16,
   "metadata": {},
   "outputs": [
    {
     "data": {
      "text/html": [
       "<div>\n",
       "<style scoped>\n",
       "    .dataframe tbody tr th:only-of-type {\n",
       "        vertical-align: middle;\n",
       "    }\n",
       "\n",
       "    .dataframe tbody tr th {\n",
       "        vertical-align: top;\n",
       "    }\n",
       "\n",
       "    .dataframe thead th {\n",
       "        text-align: right;\n",
       "    }\n",
       "</style>\n",
       "<table border=\"1\" class=\"dataframe\">\n",
       "  <thead>\n",
       "    <tr style=\"text-align: right;\">\n",
       "      <th></th>\n",
       "      <th>ZONE</th>\n",
       "      <th>DIST</th>\n",
       "      <th>SDIST</th>\n",
       "      <th>COUNTY</th>\n",
       "      <th>TOTHH</th>\n",
       "      <th>HHPOP</th>\n",
       "      <th>TOTPOP</th>\n",
       "      <th>EMPRES</th>\n",
       "      <th>SFHH</th>\n",
       "      <th>MFHH</th>\n",
       "      <th>...</th>\n",
       "      <th>AGE4564</th>\n",
       "      <th>AGE65</th>\n",
       "      <th>AGE0513</th>\n",
       "      <th>AGE1417</th>\n",
       "      <th>AGE1824</th>\n",
       "      <th>ESENR</th>\n",
       "      <th>HSENR</th>\n",
       "      <th>COLLENR</th>\n",
       "      <th>COLLENRF</th>\n",
       "      <th>COLLENRP</th>\n",
       "    </tr>\n",
       "  </thead>\n",
       "  <tbody>\n",
       "    <tr>\n",
       "      <th>0</th>\n",
       "      <td>1</td>\n",
       "      <td>10</td>\n",
       "      <td>10</td>\n",
       "      <td>3</td>\n",
       "      <td>592.0</td>\n",
       "      <td>1641.0</td>\n",
       "      <td>1643.0</td>\n",
       "      <td>877.0</td>\n",
       "      <td>395.0</td>\n",
       "      <td>196.0</td>\n",
       "      <td>...</td>\n",
       "      <td>415.0</td>\n",
       "      <td>253.0</td>\n",
       "      <td>154.0</td>\n",
       "      <td>68.0</td>\n",
       "      <td>92.0</td>\n",
       "      <td>0</td>\n",
       "      <td>0</td>\n",
       "      <td>0</td>\n",
       "      <td>0</td>\n",
       "      <td>0</td>\n",
       "    </tr>\n",
       "    <tr>\n",
       "      <th>1</th>\n",
       "      <td>2</td>\n",
       "      <td>10</td>\n",
       "      <td>10</td>\n",
       "      <td>3</td>\n",
       "      <td>163.0</td>\n",
       "      <td>341.0</td>\n",
       "      <td>341.0</td>\n",
       "      <td>193.0</td>\n",
       "      <td>66.0</td>\n",
       "      <td>97.0</td>\n",
       "      <td>...</td>\n",
       "      <td>94.0</td>\n",
       "      <td>62.0</td>\n",
       "      <td>23.0</td>\n",
       "      <td>8.0</td>\n",
       "      <td>27.0</td>\n",
       "      <td>0</td>\n",
       "      <td>0</td>\n",
       "      <td>0</td>\n",
       "      <td>0</td>\n",
       "      <td>0</td>\n",
       "    </tr>\n",
       "    <tr>\n",
       "      <th>2</th>\n",
       "      <td>3</td>\n",
       "      <td>10</td>\n",
       "      <td>10</td>\n",
       "      <td>3</td>\n",
       "      <td>822.0</td>\n",
       "      <td>1953.0</td>\n",
       "      <td>1956.0</td>\n",
       "      <td>877.0</td>\n",
       "      <td>269.0</td>\n",
       "      <td>553.0</td>\n",
       "      <td>...</td>\n",
       "      <td>406.0</td>\n",
       "      <td>541.0</td>\n",
       "      <td>200.0</td>\n",
       "      <td>88.0</td>\n",
       "      <td>135.0</td>\n",
       "      <td>13</td>\n",
       "      <td>13</td>\n",
       "      <td>0</td>\n",
       "      <td>0</td>\n",
       "      <td>0</td>\n",
       "    </tr>\n",
       "    <tr>\n",
       "      <th>3</th>\n",
       "      <td>4</td>\n",
       "      <td>10</td>\n",
       "      <td>10</td>\n",
       "      <td>3</td>\n",
       "      <td>281.0</td>\n",
       "      <td>590.0</td>\n",
       "      <td>590.0</td>\n",
       "      <td>334.0</td>\n",
       "      <td>108.0</td>\n",
       "      <td>173.0</td>\n",
       "      <td>...</td>\n",
       "      <td>163.0</td>\n",
       "      <td>108.0</td>\n",
       "      <td>48.0</td>\n",
       "      <td>17.0</td>\n",
       "      <td>46.0</td>\n",
       "      <td>322</td>\n",
       "      <td>0</td>\n",
       "      <td>0</td>\n",
       "      <td>0</td>\n",
       "      <td>0</td>\n",
       "    </tr>\n",
       "    <tr>\n",
       "      <th>4</th>\n",
       "      <td>5</td>\n",
       "      <td>10</td>\n",
       "      <td>10</td>\n",
       "      <td>3</td>\n",
       "      <td>1671.0</td>\n",
       "      <td>4685.0</td>\n",
       "      <td>4698.0</td>\n",
       "      <td>2180.0</td>\n",
       "      <td>906.0</td>\n",
       "      <td>765.0</td>\n",
       "      <td>...</td>\n",
       "      <td>1162.0</td>\n",
       "      <td>1117.0</td>\n",
       "      <td>529.0</td>\n",
       "      <td>207.0</td>\n",
       "      <td>342.0</td>\n",
       "      <td>206</td>\n",
       "      <td>0</td>\n",
       "      <td>0</td>\n",
       "      <td>0</td>\n",
       "      <td>0</td>\n",
       "    </tr>\n",
       "  </tbody>\n",
       "</table>\n",
       "<p>5 rows × 43 columns</p>\n",
       "</div>"
      ],
      "text/plain": [
       "   ZONE  DIST  SDIST  COUNTY   TOTHH   HHPOP  TOTPOP  EMPRES   SFHH   MFHH  \\\n",
       "0     1    10     10       3   592.0  1641.0  1643.0   877.0  395.0  196.0   \n",
       "1     2    10     10       3   163.0   341.0   341.0   193.0   66.0   97.0   \n",
       "2     3    10     10       3   822.0  1953.0  1956.0   877.0  269.0  553.0   \n",
       "3     4    10     10       3   281.0   590.0   590.0   334.0  108.0  173.0   \n",
       "4     5    10     10       3  1671.0  4685.0  4698.0  2180.0  906.0  765.0   \n",
       "\n",
       "     ...     AGE4564   AGE65  AGE0513  AGE1417  AGE1824  ESENR  HSENR  \\\n",
       "0    ...       415.0   253.0    154.0     68.0     92.0      0      0   \n",
       "1    ...        94.0    62.0     23.0      8.0     27.0      0      0   \n",
       "2    ...       406.0   541.0    200.0     88.0    135.0     13     13   \n",
       "3    ...       163.0   108.0     48.0     17.0     46.0    322      0   \n",
       "4    ...      1162.0  1117.0    529.0    207.0    342.0    206      0   \n",
       "\n",
       "   COLLENR  COLLENRF  COLLENRP  \n",
       "0        0         0         0  \n",
       "1        0         0         0  \n",
       "2        0         0         0  \n",
       "3        0         0         0  \n",
       "4        0         0         0  \n",
       "\n",
       "[5 rows x 43 columns]"
      ]
     },
     "execution_count": 16,
     "metadata": {},
     "output_type": "execute_result"
    }
   ],
   "source": [
    "df_40.head()"
   ]
  },
  {
   "cell_type": "code",
   "execution_count": 28,
   "metadata": {},
   "outputs": [
    {
     "data": {
      "text/plain": [
       "13193"
      ]
     },
     "execution_count": 28,
     "metadata": {},
     "output_type": "execute_result"
    }
   ],
   "source": [
    "df_43['EMPRES'][2513]"
   ]
  },
  {
   "cell_type": "code",
   "execution_count": 23,
   "metadata": {},
   "outputs": [
    {
     "data": {
      "text/plain": [
       "-338.0"
      ]
     },
     "execution_count": 23,
     "metadata": {},
     "output_type": "execute_result"
    }
   ],
   "source": [
    "(df_43-df_40)['EMPRES'][2513]"
   ]
  },
  {
   "cell_type": "code",
   "execution_count": 24,
   "metadata": {
    "scrolled": false
   },
   "outputs": [],
   "source": [
    "# (df_43-df_40)['EMPRES'].sort_values()"
   ]
  },
  {
   "cell_type": "code",
   "execution_count": 39,
   "metadata": {},
   "outputs": [
    {
     "data": {
      "text/plain": [
       "-582.0"
      ]
     },
     "execution_count": 39,
     "metadata": {},
     "output_type": "execute_result"
    }
   ],
   "source": [
    "(df_40-df_35)['EMPRES'][2513]"
   ]
  },
  {
   "cell_type": "code",
   "execution_count": 26,
   "metadata": {},
   "outputs": [
    {
     "data": {
      "text/plain": [
       "14113.0"
      ]
     },
     "execution_count": 26,
     "metadata": {},
     "output_type": "execute_result"
    }
   ],
   "source": [
    "df_35['EMPRES'][2513]"
   ]
  },
  {
   "cell_type": "code",
   "execution_count": 27,
   "metadata": {},
   "outputs": [
    {
     "data": {
      "text/plain": [
       "13531.0"
      ]
     },
     "execution_count": 27,
     "metadata": {},
     "output_type": "execute_result"
    }
   ],
   "source": [
    "df_40['EMPRES'][2513]"
   ]
  },
  {
   "cell_type": "code",
   "execution_count": 33,
   "metadata": {},
   "outputs": [
    {
     "name": "stderr",
     "output_type": "stream",
     "text": [
      "/Users/vivek/anaconda3/envs/GIS/lib/python3.6/site-packages/ipykernel_launcher.py:5: RuntimeWarning: divide by zero encountered in log\n",
      "  \"\"\"\n"
     ]
    },
    {
     "data": {
      "text/plain": [
       "-111.59191342984013"
      ]
     },
     "execution_count": 33,
     "metadata": {},
     "output_type": "execute_result"
    }
   ],
   "source": [
    "exp_growth_calc(df_35, df_40, 5, 8, fields)['EMPRES'][2513]-exp_growth_calc(df_35, df_40, 5, 7, fields)['EMPRES'][2513]"
   ]
  },
  {
   "cell_type": "code",
   "execution_count": 34,
   "metadata": {},
   "outputs": [
    {
     "name": "stderr",
     "output_type": "stream",
     "text": [
      "/Users/vivek/anaconda3/envs/GIS/lib/python3.6/site-packages/ipykernel_launcher.py:5: RuntimeWarning: divide by zero encountered in log\n",
      "  \"\"\"\n"
     ]
    },
    {
     "data": {
      "text/plain": [
       "-112.53577699780544"
      ]
     },
     "execution_count": 34,
     "metadata": {},
     "output_type": "execute_result"
    }
   ],
   "source": [
    "exp_growth_calc(df_35, df_40, 5, 7, fields)['EMPRES'][2513]-exp_growth_calc(df_35, df_40, 5, 6, fields)['EMPRES'][2513]"
   ]
  },
  {
   "cell_type": "code",
   "execution_count": 35,
   "metadata": {},
   "outputs": [
    {
     "name": "stderr",
     "output_type": "stream",
     "text": [
      "/Users/vivek/anaconda3/envs/GIS/lib/python3.6/site-packages/ipykernel_launcher.py:5: RuntimeWarning: divide by zero encountered in log\n",
      "  \"\"\"\n"
     ]
    },
    {
     "data": {
      "text/plain": [
       "-113.48762392592107"
      ]
     },
     "execution_count": 35,
     "metadata": {},
     "output_type": "execute_result"
    }
   ],
   "source": [
    "exp_growth_calc(df_35, df_40, 5, 6, fields)['EMPRES'][2513]-exp_growth_calc(df_35, df_40, 5, 5, fields)['EMPRES'][2513]"
   ]
  },
  {
   "cell_type": "code",
   "execution_count": 36,
   "metadata": {},
   "outputs": [
    {
     "name": "stderr",
     "output_type": "stream",
     "text": [
      "/Users/vivek/anaconda3/envs/GIS/lib/python3.6/site-packages/ipykernel_launcher.py:5: RuntimeWarning: divide by zero encountered in log\n",
      "  \"\"\"\n"
     ]
    },
    {
     "data": {
      "text/plain": [
       "-114.4475217388208"
      ]
     },
     "execution_count": 36,
     "metadata": {},
     "output_type": "execute_result"
    }
   ],
   "source": [
    "exp_growth_calc(df_35, df_40, 5, 5, fields)['EMPRES'][2513]-exp_growth_calc(df_35, df_40, 5, 4, fields)['EMPRES'][2513]"
   ]
  },
  {
   "cell_type": "code",
   "execution_count": 37,
   "metadata": {},
   "outputs": [
    {
     "name": "stderr",
     "output_type": "stream",
     "text": [
      "/Users/vivek/anaconda3/envs/GIS/lib/python3.6/site-packages/ipykernel_launcher.py:5: RuntimeWarning: divide by zero encountered in log\n",
      "  \"\"\"\n"
     ]
    },
    {
     "data": {
      "text/plain": [
       "-115.41553853227015"
      ]
     },
     "execution_count": 37,
     "metadata": {},
     "output_type": "execute_result"
    }
   ],
   "source": [
    "exp_growth_calc(df_35, df_40, 5, 4, fields)['EMPRES'][2513]-exp_growth_calc(df_35, df_40, 5, 3, fields)['EMPRES'][2513]"
   ]
  }
 ],
 "metadata": {
  "kernelspec": {
   "display_name": "Python 3",
   "language": "python",
   "name": "python3"
  },
  "language_info": {
   "codemirror_mode": {
    "name": "ipython",
    "version": 3
   },
   "file_extension": ".py",
   "mimetype": "text/x-python",
   "name": "python",
   "nbconvert_exporter": "python",
   "pygments_lexer": "ipython3",
   "version": "3.6.4"
  }
 },
 "nbformat": 4,
 "nbformat_minor": 2
}
