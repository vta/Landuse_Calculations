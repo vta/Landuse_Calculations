{
 "cells": [
  {
   "cell_type": "markdown",
   "metadata": {},
   "source": [
    "Generate year 2026 and year 2038 numbers from the previous calculations"
   ]
  },
  {
   "cell_type": "code",
   "execution_count": 4,
   "metadata": {},
   "outputs": [],
   "source": [
    "import pandas as pd\n",
    "import numpy as np"
   ]
  },
  {
   "cell_type": "code",
   "execution_count": 5,
   "metadata": {},
   "outputs": [],
   "source": [
    "# Test Calc\n",
    "# 147*np.exp(r*2)"
   ]
  },
  {
   "cell_type": "code",
   "execution_count": 6,
   "metadata": {},
   "outputs": [],
   "source": [
    "def exp_growth_calc(zero_pop, final_pop, final_pop_years, calc_years, fields):\n",
    "    # http://www.coolmath.com/algebra/17-exponentials-logarithms/06-population-exponential-growth-01\n",
    "    # r = np.log(244/147)/10\n",
    "    # r = np.log(P/P0)/time\n",
    "    return zero_pop[fields]*np.exp(np.log(final_pop[fields]/zero_pop[fields])/final_pop_years*calc_years)"
   ]
  },
  {
   "cell_type": "code",
   "execution_count": 7,
   "metadata": {},
   "outputs": [],
   "source": [
    "fields = ['TOTHH', 'HHPOP', 'TOTPOP', 'EMPRES',\n",
    "       'SFHH', 'MFHH', 'HH1', 'HH2', 'HH3', 'HH4', 'INC1', 'INC2', 'INC3',\n",
    "       'INC4', 'MHHINC', 'TACRES', 'RESACRE', 'CIACRE', 'Z2SHARE',\n",
    "       'TEMP', 'RETEMP', 'SEREMP', 'OTHEMP', 'AGEMP', 'MANEMP', 'WHOEMP',\n",
    "       'AGE0004', 'AGE0519', 'AGE2044', 'AGE4564', 'AGE65', 'AGE0513',\n",
    "       'AGE1417', 'AGE1824', 'ESENR', 'HSENR', 'COLLENR', 'COLLENRF',\n",
    "       'COLLENRP']\n",
    "# df_25[fields].head()"
   ]
  },
  {
   "cell_type": "code",
   "execution_count": 10,
   "metadata": {},
   "outputs": [],
   "source": [
    "# df_25 = pd.read_csv('output/bart_calcs_clean2025.csv')\n",
    "# df_35 = pd.read_csv('output/bart_calcs_clean2035.csv')\n",
    "\n",
    "# df_26 = df_25.copy()\n",
    "# df_26[fields] = exp_growth_calc(df_25, df_35, 10, 1, fields)\n",
    "\n",
    "# #Round all columns except Z2SHARE\n",
    "# df_26[df_26.columns.difference(['Z2SHARE'])] = df_26[df_26.columns.difference(['Z2SHARE'])].round(0).fillna(0.0).astype(int)\n",
    "# df_26.to_csv('output/bart_calcs_clean2026.csv', index=False)"
   ]
  },
  {
   "cell_type": "code",
   "execution_count": 9,
   "metadata": {},
   "outputs": [
    {
     "name": "stderr",
     "output_type": "stream",
     "text": [
      "/Users/vivek/anaconda3/envs/GIS/lib/python3.6/site-packages/ipykernel_launcher.py:5: RuntimeWarning: divide by zero encountered in log\n",
      "  \"\"\"\n"
     ]
    }
   ],
   "source": [
    "df_25 = pd.read_csv('output/bart_calcs_clean2025.csv')\n",
    "df_30 = pd.read_csv('output/bart_calcs_clean2030.csv')\n",
    "\n",
    "df_26 = df_25.copy()\n",
    "df_26[fields] = exp_growth_calc(df_25, df_30, 5, 1, fields)\n",
    "\n",
    "#Round all columns except Z2SHARE\n",
    "df_26[df_26.columns.difference(['Z2SHARE'])] = df_26[df_26.columns.difference(['Z2SHARE'])].round(0).fillna(0.0).astype(int)\n",
    "df_26.to_csv('output/bart_calcs_clean2026.csv', index=False)"
   ]
  },
  {
   "cell_type": "code",
   "execution_count": 11,
   "metadata": {},
   "outputs": [
    {
     "name": "stderr",
     "output_type": "stream",
     "text": [
      "/Users/vivek/anaconda3/envs/GIS/lib/python3.6/site-packages/ipykernel_launcher.py:5: RuntimeWarning: divide by zero encountered in log\n",
      "  \"\"\"\n"
     ]
    }
   ],
   "source": [
    "df_35 = pd.read_csv('output/bart_calcs_clean2035.csv')\n",
    "df_40 = pd.read_csv('output/bart_calcs_clean2040.csv')\n",
    "\n",
    "df_38 = df_35.copy()\n",
    "df_38[fields] = exp_growth_calc(df_35, df_40, 5, 3, fields)\n",
    "df_38[df_38.columns.difference(['Z2SHARE'])] = df_38[df_38.columns.difference(['Z2SHARE'])].round(0).fillna(0.0).astype(int)\n",
    "df_38.to_csv('output/bart_calcs_clean2038.csv', index=False)"
   ]
  },
  {
   "cell_type": "code",
   "execution_count": null,
   "metadata": {},
   "outputs": [],
   "source": [
    "df_35 = pd.read_csv('output/bart_calcs_clean_appended2035.csv')\n",
    "df_40 = pd.read_csv('output/bart_calcs_clean_appended2040.csv')\n",
    "\n",
    "df_38 = df_35.copy()\n",
    "df_38[fields] = exp_growth_calc(df_35, df_40, 5, 3, fields)"
   ]
  },
  {
   "cell_type": "code",
   "execution_count": null,
   "metadata": {},
   "outputs": [],
   "source": [
    "# good_geoms[good_geoms.columns.difference(['geom_1','geom_2'])]\n",
    "# Make everything but Z2SHARE rounded integers.\n",
    "df_38[df_38.columns.difference(['Z2SHARE'])] = df_38[df_38.columns.difference(['Z2SHARE'])].round(0).fillna(0.0).astype(int)"
   ]
  },
  {
   "cell_type": "code",
   "execution_count": null,
   "metadata": {},
   "outputs": [],
   "source": []
  },
  {
   "cell_type": "code",
   "execution_count": null,
   "metadata": {},
   "outputs": [],
   "source": []
  },
  {
   "cell_type": "code",
   "execution_count": null,
   "metadata": {},
   "outputs": [],
   "source": []
  },
  {
   "cell_type": "code",
   "execution_count": null,
   "metadata": {},
   "outputs": [],
   "source": []
  }
 ],
 "metadata": {
  "kernelspec": {
   "display_name": "Python 3",
   "language": "python",
   "name": "python3"
  },
  "language_info": {
   "codemirror_mode": {
    "name": "ipython",
    "version": 3
   },
   "file_extension": ".py",
   "mimetype": "text/x-python",
   "name": "python",
   "nbconvert_exporter": "python",
   "pygments_lexer": "ipython3",
   "version": "3.6.4"
  }
 },
 "nbformat": 4,
 "nbformat_minor": 2
}
