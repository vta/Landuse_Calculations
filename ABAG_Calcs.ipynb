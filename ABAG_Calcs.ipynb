{
 "cells": [
  {
   "cell_type": "markdown",
   "metadata": {},
   "source": [
    "ABAG Landuse Calculations\n",
    "\n",
    "This notebook documents the joining data between VTA's TAZ Zones and \n"
   ]
  },
  {
   "cell_type": "code",
   "execution_count": null,
   "metadata": {},
   "outputs": [
    {
     "name": "stdout",
     "output_type": "stream",
     "text": [
      "PyTables is not installed. No support for HDF output.\n"
     ]
    }
   ],
   "source": [
    "#This uses geopy36\n",
    "import geopandas as gpd\n",
    "import pandas as pd\n",
    "%matplotlib inline  \n",
    "from shapely.geometry import Point\n",
    "\n",
    "from simpledbf import Dbf5\n",
    "#pip install simpledbf\n",
    "#https://pypi.python.org/pypi/simpledbf/0.2.4\n",
    "\n",
    "vta_taz = gpd.read_file('VTA_TAZ/')\n",
    "vta_taz = vta_taz.rename(columns={'TAZ':'VTA_TAZ'})\n",
    "\n",
    "dbf = Dbf5('2017ABAGLanduseAllocation/VTA/zmast13.dbf')\n",
    "vta_dbf = dbf.to_dataframe()\n",
    "vta_dbf = vta_dbf.rename(columns={'ZONE':'VTA_TAZ'})\n",
    "\n",
    "vta_taz = pd.merge(vta_taz,vta_dbf)\n",
    "\n",
    "\n",
    "# mtc_taz = gpd.read_file('/Users/vivek/Github/VTA/Landuse/MTC/MTCTAZ1454.dbf')\n",
    "\n",
    "\n",
    "#http://analytics.mtc.ca.gov/foswiki/UrbanSimTwo/OutputToTravelModel"
   ]
  },
  {
   "cell_type": "code",
   "execution_count": null,
   "metadata": {},
   "outputs": [],
   "source": [
    "mtc_taz = gpd.read_file('MTC/')\n",
    "mtc_taz = mtc_taz.rename(columns={'TAZ1454':'ZONE'})\n",
    "abag_2010 = pd.read_csv('2017ABAGLanduseAllocation/ABAGPROJ2017/DRAFT/run7224c_taz_summaries_2010.csv')\n",
    "mtc_taz = pd.merge(mtc_taz,abag_2010)"
   ]
  },
  {
   "cell_type": "code",
   "execution_count": null,
   "metadata": {
    "scrolled": true
   },
   "outputs": [],
   "source": [
    "mtc_taz.head()"
   ]
  },
  {
   "cell_type": "code",
   "execution_count": null,
   "metadata": {},
   "outputs": [],
   "source": [
    "# vta_taz['centroid'] = vta_taz.centroid\n",
    "# vta_taz = vta_taz.set_geometry('centroid')\n",
    "# vta_taz['old_geometry'] = vta_taz['geometry']\n",
    "# vta_taz['geometry'] = vta_taz['centroid']\n",
    "\n",
    "# centroid = gpd.sjoin(mtc_taz[['ZONE','geometry']], vta_taz, how = \"right\", op='contains')\n",
    "# centroid['ZONE'].nunique()\n",
    "# centroid[['ZONE','VTA_TAZ']].to_csv(\"rel.csv\")\n",
    "# rel = centroid[['ZONE','VTA_TAZ']]\n",
    "# missing_zones = pd.DataFrame([{'ZONE' : 1454, 'VTA_TAZ' : 2786},{'ZONE':404,'VTA_TAZ':980},{'ZONE' : 190, 'VTA_TAZ' : 1890}])\n",
    "# rel = pd.concat([rel,missing_zones])\n",
    "# rel.to_csv('rel_vta_mtc.csv',index=False)"
   ]
  },
  {
   "cell_type": "code",
   "execution_count": null,
   "metadata": {},
   "outputs": [],
   "source": [
    "# vt = vta_taz.columns.values\n",
    "# ab = abag_2010.columns.values \n",
    "# set(ab) - set(tz)\n",
    "# # set(ab) - set(tz)\n",
    "# # set(ab).difference(set(tz))\n",
    "# set(vt).intersection(set(ab))\n",
    "# set(ab) - set(vt)"
   ]
  },
  {
   "cell_type": "code",
   "execution_count": null,
   "metadata": {
    "collapsed": true
   },
   "outputs": [],
   "source": [
    "rel = pd.read_csv('rel_vta_mtc.csv')"
   ]
  },
  {
   "cell_type": "code",
   "execution_count": null,
   "metadata": {
    "collapsed": true
   },
   "outputs": [],
   "source": [
    "rel = rel.loc[~rel['ZONE'].isnull(),]"
   ]
  },
  {
   "cell_type": "code",
   "execution_count": null,
   "metadata": {},
   "outputs": [],
   "source": [
    "len(rel)\n",
    "#Should be 2576"
   ]
  },
  {
   "cell_type": "code",
   "execution_count": null,
   "metadata": {},
   "outputs": [],
   "source": [
    "abag_2010.columns"
   ]
  },
  {
   "cell_type": "code",
   "execution_count": null,
   "metadata": {
    "collapsed": true
   },
   "outputs": [],
   "source": [
    "#Join the VTA shapefile to the abag 2010 dataset!\n",
    "\n",
    "vt_calc = pd.merge(pd.merge(abag_2010[['ZONE','TOTHH','RESACRE','CIACRE','TOTEMP']],\n",
    "                            rel,how='outer'),vta_taz[['VTA_TAZ','DIST','SDIST','CITY','COUNTY','geometry','TOTHH','TOTPOP',\n",
    "                            'HHPOP','EMPRES','HH1','HH2','HH3','HH4','TACRES','RESACRE','CIACRE','TEMP',\n",
    "                            'RETEMP','SEREMP','OTHEMP','AGEMP','MANEMP','WHOEMP','AGE0004','AGE0519',\n",
    "                            'AGE2044','AGE4564','AGE65','SFHH','MFHH']].rename(columns={\"TOTHH\":\"VTA_TOTHH\",\"TOTPOP\":\"VTA_TOTPOP\",\n",
    "                            \"HHPOP\":\"VTA_HHPOP\",\"EMPRES\":\"VTA_EMPRES\",\"RESACRE\":'VTA_RESACRE',\"CIACRE\":\"VTA_CIACRE\",\"TEMP\":\"VTA_TEMP\"}))"
   ]
  },
  {
   "cell_type": "code",
   "execution_count": null,
   "metadata": {},
   "outputs": [],
   "source": [
    "vt_calc.head()\n",
    "# vt_calc.groupby(['ZONE','VTA_TAZ'])['VTA_TOTPOP'].apply(lambda x: x / x.sum())\n",
    "# vt_calc.groupby(['ZONE','VTA_TAZ'])['VTA_TOTPOP'].sum()"
   ]
  },
  {
   "cell_type": "code",
   "execution_count": null,
   "metadata": {
    "collapsed": true
   },
   "outputs": [],
   "source": [
    "vt_tothh = vt_calc.groupby(['ZONE','VTA_TAZ'])['VTA_TOTHH'].sum().groupby(level = 0).transform(lambda x: x/x.sum()).reset_index()\n",
    "\n",
    "vt_resacre = vt_calc.groupby(['ZONE','VTA_TAZ'])['VTA_RESACRE'].sum().groupby(level = 0).transform(lambda x: x/x.sum()).reset_index()\n",
    "vt_ciacre = vt_calc.groupby(['ZONE','VTA_TAZ'])['VTA_CIACRE'].sum().groupby(level = 0).transform(lambda x: x/x.sum()).reset_index()\n",
    "vt_temp = vt_calc.groupby(['ZONE','VTA_TAZ'])['VTA_TEMP'].sum().groupby(level = 0).transform(lambda x: x/x.sum()).reset_index()"
   ]
  },
  {
   "cell_type": "code",
   "execution_count": null,
   "metadata": {
    "collapsed": true
   },
   "outputs": [],
   "source": [
    "vt_tothh = vt_tothh.rename(columns={\"VTA_TOTHH\":\"VTA_TOTHH_share\"})\n",
    "\n",
    "vt_resacre = vt_resacre.rename(columns={\"VTA_RESACRE\":\"VTA_RESACRE_share\"})\n",
    "vt_ciacre = vt_ciacre.rename(columns={\"VTA_CIACRE\":\"VTA_CIACRE_share\"})\n",
    "vt_temp = vt_temp.rename(columns={\"VTA_TEMP\":\"VTA_TEMP_share\"})"
   ]
  },
  {
   "cell_type": "code",
   "execution_count": null,
   "metadata": {
    "collapsed": true
   },
   "outputs": [],
   "source": [
    "vta_final= pd.merge(pd.merge(pd.merge(pd.merge(vt_calc,vt_tothh),vt_resacre),vt_ciacre),vt_temp)"
   ]
  },
  {
   "cell_type": "code",
   "execution_count": null,
   "metadata": {
    "collapsed": true
   },
   "outputs": [],
   "source": [
    "vta_final['abag_2010_TOTHH_dist'] = round(vta_final['TOTHH']*vta_final['VTA_TOTHH_share'])\n",
    "\n",
    "vta_final['abag_2010_RESACRE_dist'] = round(vta_final['RESACRE']*vta_final['VTA_RESACRE_share'])\n",
    "vta_final['abag_2010_CIACRE_dist'] = round(vta_final['CIACRE']*vta_final['VTA_CIACRE_share'])\n",
    "vta_final['abag_2010_TEMP_dist'] = round(vta_final['TOTEMP']*vta_final['VTA_TEMP_share'])"
   ]
  },
  {
   "cell_type": "code",
   "execution_count": null,
   "metadata": {
    "collapsed": true
   },
   "outputs": [],
   "source": [
    "vta_final['abag_2010_HHPOP_dist'] = round(vta_final['VTA_HHPOP']/vta_final['VTA_TOTHH']*vta_final['abag_2010_TOTHH_dist'])"
   ]
  },
  {
   "cell_type": "code",
   "execution_count": null,
   "metadata": {
    "collapsed": true
   },
   "outputs": [],
   "source": [
    "vta_final['abag_2010_TOTPOP_dist'] = round(vta_final['VTA_TOTPOP']/vta_final['VTA_TOTHH']*vta_final['abag_2010_TOTHH_dist'])"
   ]
  },
  {
   "cell_type": "code",
   "execution_count": null,
   "metadata": {
    "collapsed": true
   },
   "outputs": [],
   "source": [
    "vta_final['abag_2010_EMPRES_dist'] = round(vta_final['VTA_EMPRES']/vta_final['VTA_TOTHH']*vta_final['abag_2010_TOTHH_dist'])"
   ]
  },
  {
   "cell_type": "code",
   "execution_count": null,
   "metadata": {
    "collapsed": true
   },
   "outputs": [],
   "source": [
    "vta_final['abag_2010_HH1_dist'] = round(vta_final['HH1']/vta_final['VTA_TOTHH']*vta_final['abag_2010_TOTHH_dist'])\n",
    "vta_final['abag_2010_HH2_dist'] = round(vta_final['HH2']/vta_final['VTA_TOTHH']*vta_final['abag_2010_TOTHH_dist'])\n",
    "vta_final['abag_2010_HH3_dist'] = round(vta_final['HH3']/vta_final['VTA_TOTHH']*vta_final['abag_2010_TOTHH_dist'])\n",
    "vta_final['abag_2010_HH4_dist'] = round(vta_final['HH4']/vta_final['VTA_TOTHH']*vta_final['abag_2010_TOTHH_dist'])\n"
   ]
  },
  {
   "cell_type": "code",
   "execution_count": null,
   "metadata": {
    "collapsed": true
   },
   "outputs": [],
   "source": [
    "vta_final['abag_2010_RETEMP_dist'] = round(vta_final['RETEMP']/vta_final['VTA_TEMP']*vta_final['abag_2010_TEMP_dist'])\n",
    "vta_final['abag_2010_SEREMP_dist'] = round(vta_final['SEREMP']/vta_final['VTA_TEMP']*vta_final['abag_2010_TEMP_dist'])\n",
    "vta_final['abag_2010_OTHEMP_dist'] = round(vta_final['OTHEMP']/vta_final['VTA_TEMP']*vta_final['abag_2010_TEMP_dist'])\n",
    "vta_final['abag_2010_AGEMP_dist'] = round(vta_final['AGEMP']/vta_final['VTA_TEMP']*vta_final['abag_2010_TEMP_dist'])\n",
    "vta_final['abag_2010_MANEMP_dist'] = round(vta_final['MANEMP']/vta_final['VTA_TEMP']*vta_final['abag_2010_TEMP_dist'])\n",
    "vta_final['abag_2010_WHOEMP_dist'] = round(vta_final['WHOEMP']/vta_final['VTA_TEMP']*vta_final['abag_2010_TEMP_dist'])"
   ]
  },
  {
   "cell_type": "code",
   "execution_count": null,
   "metadata": {
    "collapsed": true
   },
   "outputs": [],
   "source": [
    "vta_final['abag_2010_AGE0004_dist'] = round(vta_final['AGE0004']/vta_final['VTA_HHPOP']*vta_final['abag_2010_HHPOP_dist'])\n",
    "vta_final['abag_2010_AGE0519_dist'] = round(vta_final['AGE0519']/vta_final['VTA_HHPOP']*vta_final['abag_2010_HHPOP_dist'])\n",
    "vta_final['abag_2010_AGE2044_dist'] = round(vta_final['AGE2044']/vta_final['VTA_HHPOP']*vta_final['abag_2010_HHPOP_dist'])\n",
    "vta_final['abag_2010_AGE4564_dist'] = round(vta_final['AGE4564']/vta_final['VTA_HHPOP']*vta_final['abag_2010_HHPOP_dist'])\n",
    "vta_final['abag_2010_AGE65_dist'] = round(vta_final['AGE65']/vta_final['VTA_HHPOP']*vta_final['abag_2010_HHPOP_dist'])"
   ]
  },
  {
   "cell_type": "code",
   "execution_count": null,
   "metadata": {
    "collapsed": true
   },
   "outputs": [],
   "source": [
    "vta_final['abag_2010_SFHH_dist'] = round(vta_final['SFHH']/vta_final['VTA_TOTHH']*vta_final['abag_2010_TOTHH_dist'])\n",
    "vta_final['abag_2010_MFHH_dist'] = round(vta_final['MFHH']/vta_final['VTA_TOTHH']*vta_final['abag_2010_TOTHH_dist'])"
   ]
  },
  {
   "cell_type": "code",
   "execution_count": null,
   "metadata": {},
   "outputs": [],
   "source": [
    "vta_final"
   ]
  },
  {
   "cell_type": "code",
   "execution_count": null,
   "metadata": {},
   "outputs": [],
   "source": [
    "vta_final.columns"
   ]
  },
  {
   "cell_type": "code",
   "execution_count": null,
   "metadata": {
    "collapsed": true
   },
   "outputs": [],
   "source": [
    "geometry = vta_final['geometry']\n",
    "crs = mtc_taz.crs\n",
    "geo_df = gpd.GeoDataFrame(vta_final, crs=crs, geometry=geometry)"
   ]
  },
  {
   "cell_type": "code",
   "execution_count": null,
   "metadata": {
    "collapsed": true
   },
   "outputs": [],
   "source": [
    "geo_df.head()\n",
    "geo_df.to_file('abag_2010_vta_dist')"
   ]
  },
  {
   "cell_type": "code",
   "execution_count": null,
   "metadata": {
    "collapsed": true
   },
   "outputs": [],
   "source": [
    "del vta_final['geometry']\n",
    "vta_final.to_csv('vta_final_abag_2010.csv',index=False)\n",
    "vta_final.to_excel('vta_final_abag_2010.xlsx',index=False)"
   ]
  }
 ],
 "metadata": {
  "kernelspec": {
   "display_name": "Python 3",
   "language": "python",
   "name": "python3"
  },
  "language_info": {
   "codemirror_mode": {
    "name": "ipython",
    "version": 3
   },
   "file_extension": ".py",
   "mimetype": "text/x-python",
   "name": "python",
   "nbconvert_exporter": "python",
   "pygments_lexer": "ipython3",
   "version": "3.6.1"
  }
 },
 "nbformat": 4,
 "nbformat_minor": 2
}
