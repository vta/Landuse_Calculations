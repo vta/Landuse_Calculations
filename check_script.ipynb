{
 "cells": [
  {
   "cell_type": "code",
   "execution_count": null,
   "metadata": {},
   "outputs": [],
   "source": [
    "#This uses geopy36\n",
    "# import geopandas as gpd\n",
    "import pandas as pd\n",
    "%matplotlib inline  \n",
    "# from shapely.geometry import Point\n",
    "\n",
    "# from simpledbf import Dbf5\n",
    "#pip install simpledbf\n",
    "#https://pypi.python.org/pypi/simpledbf/0.2.4"
   ]
  },
  {
   "cell_type": "code",
   "execution_count": null,
   "metadata": {},
   "outputs": [],
   "source": [
    "years = ['2015','2020','2025','2030','2035','2040']"
   ]
  },
  {
   "cell_type": "code",
   "execution_count": null,
   "metadata": {},
   "outputs": [],
   "source": [
    "for year in years:\n",
    "    abag = pd.read_csv('ABAG_03202018/run7224c_taz_summaries_' + year + '.csv')\n",
    "    abag = abag.rename(columns={'ZONE':'TAZ1454',\"HHINCQ1\":\"HH1\",\"HHINCQ2\":\"HH2\",\"HHINCQ3\":\"HH3\",\"HHINCQ4\":\"HH4\"})\n",
    "\n",
    "    for rp in ['bart','ccag']:\n",
    "        rp_calcs = pd.read_csv('output/' + rp + '_proj_abag_calcs_' + year + '.csv')\n",
    "        # output/ccag_proj_abag_calcs_' + year + '.csv',index=False)\n",
    "\n",
    "        rp_calcs_final = rp_calcs[['TAZ', 'DIST', 'SDIST', 'COUNTY', 'abag_TOTHH_dist', 'abag_HHPOP_dist',\n",
    "               'abag_TOTPOP_dist', 'abag_EMPRES_dist', 'abag_SFHH_dist', 'abag_MFHH_dist', 'abag_HH1_dist', 'abag_HH2_dist', 'abag_HH3_dist', 'abag_HH4_dist',\n",
    "               'INC1', 'INC2', 'INC3', 'INC4', 'MHHINC', 'TACRES', 'abag_RESACRE_dist',\n",
    "               'abag_CIACRE_dist', 'Z2SHARE', 'abag_TEMP_dist', 'abag_RETEMP_dist', 'abag_SEREMP_dist', 'abag_OTHEMP_dist', 'abag_AGEMP_dist',\n",
    "               'abag_MANEMP_dist', 'abag_WHOEMP_dist', 'abag_AGE0004_dist', 'abag_AGE0519_dist', 'abag_AGE2044_dist', 'abag_AGE4564_dist',\n",
    "               'abag_AGE65_dist', 'abag_AGE0513_dist', 'abag_AGE1417_dist', 'abag_AGE1824_dist', 'ESENR', 'HSENR',\n",
    "               'COLLENR', 'COLLENRF', 'COLLENRP','TAZ1454']].rename(columns={'TAZ':'ZONE'})\n",
    "\n",
    "        rp_calcs_final.rename(columns=lambda x: x.replace('abag_','').replace('_dist',''),inplace=True)\n",
    "        rp_calcs_final.rename(columns={\"TEMP\":\"TOTEMP\"}, inplace=True)\n",
    "\n",
    "    # del ccag_calcs_final['TAZ1454']\n",
    "        checkfile = abag.sort_values(by='TAZ1454').set_index('COUNTY','TAZ1454') - rp_calcs_final.groupby(['COUNTY','TAZ1454']).sum().reset_index().sort_values(by='TAZ1454').set_index('COUNTY','TAZ1454')\n",
    "        checkfile.dropna(axis='columns', how='all').to_csv(\"checks/\" + rp + \"_\" + year + \"_relevant_columns_by_county_and_TAZ.csv\")\n",
    "\n",
    "        checkfile = abag.sort_values(by='TAZ1454').set_index('TAZ1454') - rp_calcs_final.groupby(['TAZ1454']).sum().reset_index().sort_values(by='TAZ1454').set_index('TAZ1454')\n",
    "        checkfile.to_csv(\"checks/\" + rp + \"_\" + year + \"_columns_by_TAZ.csv\")\n",
    "        checkfile.dropna(axis='columns', how='all').to_csv(\"checks/\" + rp + \"_\" + year + \"_relevant_columns_by_TAZ.csv\")\n",
    "\n",
    "        county_checkfile = abag.sort_values(by='TAZ1454').groupby(['COUNTY']).sum() - rp_calcs_final.groupby(['COUNTY']).sum()\n",
    "        county_checkfile.dropna(axis='columns', how='all').to_csv(\"checks/\" + rp + \"_\" + year + \"_relevant_columns_by_County.csv\")"
   ]
  }
 ],
 "metadata": {
  "kernelspec": {
   "display_name": "Python 3",
   "language": "python",
   "name": "python3"
  },
  "language_info": {
   "codemirror_mode": {
    "name": "ipython",
    "version": 3
   },
   "file_extension": ".py",
   "mimetype": "text/x-python",
   "name": "python",
   "nbconvert_exporter": "python",
   "pygments_lexer": "ipython3",
   "version": "3.6.4"
  }
 },
 "nbformat": 4,
 "nbformat_minor": 2
}
